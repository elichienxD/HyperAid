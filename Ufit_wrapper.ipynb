{
 "cells": [
  {
   "cell_type": "markdown",
   "metadata": {},
   "source": [
    "## Ufit wrapper for HyperAid\n",
    "\n",
    "Please first git clone and install Ufit correctly. Then put this Jupyter notebook under its root directory.\n",
    "\n",
    "Below we start with importing packages"
   ]
  },
  {
   "cell_type": "code",
   "execution_count": 1,
   "metadata": {},
   "outputs": [],
   "source": [
    "import numpy as np\n",
    "import higra as hg\n",
    "from functools import partial\n",
    "from scipy.cluster.hierarchy import fcluster\n",
    "\n",
    "from ultrametric.optimization import UltrametricFitting\n",
    "from ultrametric.data import load_datasets, show_datasets\n",
    "from ultrametric.graph import build_graph, show_graphs\n",
    "from ultrametric.utils import Experiments\n",
    "from ultrametric.evaluation import eval_clustering\n",
    "\n",
    "# The following line requires that a C++14 compiler be installed\n",
    "# On Windows, you should probably run\n",
    "#   c:\\Program Files (x86)\\Microsoft Visual Studio\\2017\\Enterprise\\VC\\Auxiliary\\Build\\vcvars64.bat\n",
    "# to properly setup all environment variables\n",
    "from ultrametric.loss import loss_closest, loss_closest_and_cluster_size, make_triplets, loss_closest_and_triplet, loss_dasgupta"
   ]
  },
  {
   "cell_type": "markdown",
   "metadata": {},
   "source": [
    "## Ufit\n",
    "\n",
    "We use their default hyperparameters (epochs=500, lr=0.1). You can fine-tune it."
   ]
  },
  {
   "cell_type": "code",
   "execution_count": 2,
   "metadata": {},
   "outputs": [],
   "source": [
    "from scipy.cluster.hierarchy import cophenet\n",
    "import scipy.spatial.distance as ssd\n",
    "\n",
    "def closest_ultrametric(X, labeled, y_labeled, graph, edge_weights):\n",
    "    \n",
    "    optim = UltrametricFitting(500, 0.1, loss_closest)\n",
    "    ultrametric = optim.fit(graph, edge_weights)\n",
    "    \n",
    "    return hg.bpt_canonical(graph, ultrametric)\n",
    "\n",
    "def run_Ufit(path,D_path):\n",
    "    D_metric = np.load(D_path)\n",
    "    D_input = np.load(path)\n",
    "\n",
    "    graph, edge_weights = hg.adjacency_matrix_2_undirected_graph(D_input)   \n",
    "    \n",
    "    hierarchy = closest_ultrametric(None, None, None, graph, edge_weights)\n",
    "    \n",
    "    Z = hg.binary_hierarchy_to_scipy_linkage_matrix(*hierarchy)\n",
    "    D_output = ssd.squareform(cophenet(Z))\n",
    "\n",
    "    return ((D_metric-D_output)**2).sum().sum()**(1/2)"
   ]
  },
  {
   "cell_type": "markdown",
   "metadata": {},
   "source": [
    "## Run Ufit\n",
    "Remember to specify the path to the saved metric."
   ]
  },
  {
   "cell_type": "code",
   "execution_count": null,
   "metadata": {},
   "outputs": [],
   "source": [
    "# Load D_input\n",
    "D_path = \"Path to D_target.\" # Recommend using absolute path.\n",
    "path = \"Path to metric to apply.\" #  D_metric for HyperAid or D_target for Direct\n",
    "\n",
    "# Apply\n",
    "D_loss = run_Ufit(path,D_path)\n",
    "print(D_loss)"
   ]
  }
 ],
 "metadata": {
  "kernelspec": {
   "display_name": "hyphc",
   "language": "python",
   "name": "hyphc"
  },
  "language_info": {
   "codemirror_mode": {
    "name": "ipython",
    "version": 3
   },
   "file_extension": ".py",
   "mimetype": "text/x-python",
   "name": "python",
   "nbconvert_exporter": "python",
   "pygments_lexer": "ipython3",
   "version": "3.7.11"
  },
  "nbTranslate": {
   "displayLangs": [
    "*"
   ],
   "hotkey": "alt-t",
   "langInMainMenu": true,
   "sourceLang": "en",
   "targetLang": "fr",
   "useGoogleTranslate": true
  }
 },
 "nbformat": 4,
 "nbformat_minor": 4
}
